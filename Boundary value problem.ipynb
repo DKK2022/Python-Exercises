{
 "cells": [
  {
   "cell_type": "code",
   "execution_count": 2,
   "metadata": {},
   "outputs": [],
   "source": [
    "import numpy as np\n",
    "import matplotlib\n",
    "import matplotlib.pyplot as plt\n",
    "from scipy.integrate import odeint"
   ]
  },
  {
   "cell_type": "code",
   "execution_count": 3,
   "metadata": {},
   "outputs": [],
   "source": [
    "def FRHS(v):\n",
    "    return v"
   ]
  },
  {
   "cell_type": "code",
   "execution_count": 5,
   "metadata": {},
   "outputs": [],
   "source": [
    "def GRHS(x,u,E,potential):\n",
    "    # The boundstate energy is a negative number, so we will write E = imp.abs(E),... \n",
    "    #...so we can always give the function positive values. \n",
    "    const = 0.4829 # (Mev^-1).(fm^-2)\n",
    "    if potential == 'infinite well':\n",
    "        V = 0\n",
    "    elif potential == 'SHO':\n",
    "        V = 0.5*x*x\n",
    "    else:\n",
    "        print('Please choose a potential: well or SHO')\n",
    "    t1 = const*(-np.abs(E) - V)*u\n",
    "    return t1"
   ]
  },
  {
   "cell_type": "code",
   "execution_count": 10,
   "metadata": {},
   "outputs": [],
   "source": [
    "def dsolve_SE1D(E,potential,alpha,a,b,xmin,xmax,NGrid):\n",
    "    # E: boundstate potential\n",
    "    # potential (string): type of potential: 'infinite well' or 'SHO'\n",
    "    # a,b: boundary values of the function: u(xmin) = a, u(xmax) = b\n",
    "    # xmin,xmax,NGrid: used for linspace \n",
    "    # x is measured in fm\n",
    "    # alpha:\n",
    "    x_grid = np.linspace(xmin,xmax,NGrid)\n",
    "    h = x_grid[1] - x_grid[0]\n",
    "    # Define the arrays which hold the functions at the grid points \n",
    "    u = np.zeros(NGrid)\n",
    "    v = np.zeros(NGrid)\n",
    "    u[xmin] = a\n",
    "    v[xmin] = alpha # we guess this value\n",
    "    for i in range(0,NGrid-1): \n",
    "        k1 = h*FRHS(v[i])\n",
    "        l1 = h*GRHS(x_grid[i],u[i],E,potential)\n",
    "\n",
    "        k2 = h*FRHS(v[i] + 0.5*l1)\n",
    "        l2 = h*GRHS(x_grid[i] + 0.5*h,u[i] + 0.5*k1,E,potential)\n",
    "        \n",
    "        k3 = h*FRHS(v[i] + 0.5*l2)\n",
    "        l3 = h*GRHS(x_grid[i] + 0.5*h,u[i] + 0.5*k2,E,potential)\n",
    "        \n",
    "        k4 = h*FRHS(v[i] + l3)\n",
    "        l4 = h*GRHS(x_grid[i] + h,u[i] + k3,E,potential)\n",
    "        \n",
    "        u[i+1] = u[i] + k1/6.0 + k2/3.0 + k3/3.0 + k4/6.0\n",
    "        v[i+1] = v[i] + l1/6.0 + l2/3.0 + l3/3.0 + l4/6.0  \n",
    "    return u,v"
   ]
  },
  {
   "cell_type": "code",
   "execution_count": 15,
   "metadata": {},
   "outputs": [
    {
     "data": {
      "image/png": "[encoded data removed]",
      "text/plain": [
       "<Figure size 432x288 with 1 Axes>"
      ]
     },
     "metadata": {
      "needs_background": "light"
     },
     "output_type": "display_data"
    },
    {
     "name": "stdout",
     "output_type": "stream",
     "text": [
      "Endpoint value (u(max)):  0.023209629411007883\n"
     ]
    }
   ],
   "source": [
    "E = 0.81\n",
    "# E=3.34 is the first excitation state \n",
    "potential = 'infinite well'\n",
    "alpha = 1.0\n",
    "a = 0 # Fixed\n",
    "b = 0 # Fixed\n",
    "xmin = 0 # fm\n",
    "xmax = 5 # fm\n",
    "NGrid = 20\n",
    "x_grid = np.linspace(xmin,xmax,NGrid)\n",
    "RK4_solution = dsolve_SE1D(E,potential,alpha,a,b,xmin,xmax,NGrid)\n",
    "plt.plot(x_grid,RK4_solution[0])\n",
    "plt.show()\n",
    "print('Endpoint value (u(max)): ', RK4_solution[0][NGrid-1])"
   ]
  },
  {
   "cell_type": "code",
   "execution_count": null,
   "metadata": {},
   "outputs": [],
   "source": []
  }
 ],
 "metadata": {
  "kernelspec": {
   "display_name": "Python 3",
   "language": "python",
   "name": "python3"
  },
  "language_info": {
   "codemirror_mode": {
    "name": "ipython",
    "version": 3
   },
   "file_extension": ".py",
   "mimetype": "text/x-python",
   "name": "python",
   "nbconvert_exporter": "python",
   "pygments_lexer": "ipython3",
   "version": "3.6.8"
  }
 },
 "nbformat": 4,
 "nbformat_minor": 2
}
