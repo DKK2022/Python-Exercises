{
 "cells": [
  {
   "cell_type": "code",
   "execution_count": 1,
   "metadata": {},
   "outputs": [],
   "source": [
    "import numpy as np\n",
    "import matplotlib.pyplot as plt\n",
    "from scipy.integrate import odeint"
   ]
  },
  {
   "cell_type": "code",
   "execution_count": 2,
   "metadata": {},
   "outputs": [],
   "source": [
    "%matplotlib inline"
   ]
  },
  {
   "cell_type": "markdown",
   "metadata": {},
   "source": [
    "# Exact solution"
   ]
  },
  {
   "cell_type": "code",
   "execution_count": 9,
   "metadata": {},
   "outputs": [],
   "source": [
    " # Code for the exact solution\n",
    "def exact_solution(mass,beta,v0,alpha,tmin,tmax,NGrid):\n",
    "    # mass: mass of the object\n",
    "    # beta: drag coefficient\n",
    "    # v0: initial speed\n",
    "    # alpha: lunch angle\n",
    "    # tmin, tmax: minimum and maximum for time interval\n",
    "    #NGrid: number of grid points\n",
    "    g = 9.8 # ms^-2\n",
    "    time_grid = np.linspace(tmin,tmax,NGrid)\n",
    "    #print('time_grid: ', time_grid)\n",
    "    # Define the arrays which will hold the function values\n",
    "    # u means the function vy\n",
    "    # v means the function vz\n",
    "    u = np.zeros(NGrid)\n",
    "    v = np.zeros(NGrid)\n",
    "    # Use the exact expressions for the functions\n",
    "    for i in range(0,NGrid):\n",
    "        t = time_grid[i]   # time at specific point on grid\n",
    "        fac = -beta*t/mass\n",
    "        u[i] = (v0*np.cos(alpha))*np.exp(fac)\n",
    "        v[i] = (v0*np.sin(alpha))*np.exp(fac) - (mass*g/beta)*(1-np.exp(fac))\n",
    "    return u,v\n"
   ]
  },
  {
   "cell_type": "code",
   "execution_count": 89,
   "metadata": {},
   "outputs": [],
   "source": [
    "# Define all the parameters\n",
    "# Calculate the exact solution as an array\n",
    "mass = 1.0 # kg\n",
    "beta = 0.7\n",
    "v0 = 1.0 # m/s\n",
    "alpha = np.pi/4\n",
    "tmin = 0.0 # s\n",
    "tmax = 10.0 # s\n",
    "NGrid = 5\n",
    "time_grid = np.linspace(tmin,tmax,NGrid)\n",
    "exact_projectile = exact_solution(mass,beta,v0,alpha,tmin,tmax,NGrid)"
   ]
  },
  {
   "cell_type": "code",
   "execution_count": 26,
   "metadata": {},
   "outputs": [
    {
     "data": {
      "text/plain": [
       "2"
      ]
     },
     "execution_count": 26,
     "metadata": {},
     "output_type": "execute_result"
    }
   ],
   "source": [
    "len(exact_projectile)"
   ]
  },
  {
   "cell_type": "code",
   "execution_count": 27,
   "metadata": {},
   "outputs": [
    {
     "data": {
      "text/plain": [
       "array([7.07106781e-01, 1.22876734e-01, 2.13527746e-02, 3.71055584e-03,\n",
       "       6.44797921e-04])"
      ]
     },
     "execution_count": 27,
     "metadata": {},
     "output_type": "execute_result"
    }
   ],
   "source": [
    "exact_projectile[0]"
   ]
  },
  {
   "cell_type": "code",
   "execution_count": 28,
   "metadata": {},
   "outputs": [
    {
     "data": {
      "text/plain": [
       "array([  0.70710678, -11.44428806, -13.55588386, -13.92282419,\n",
       "       -13.98658885])"
      ]
     },
     "execution_count": 28,
     "metadata": {},
     "output_type": "execute_result"
    }
   ],
   "source": [
    "exact_projectile[1]"
   ]
  },
  {
   "cell_type": "code",
   "execution_count": 30,
   "metadata": {},
   "outputs": [
    {
     "data": {
      "image/png": "[encoded data removed]",
      "text/plain": [
       "<Figure size 288x288 with 2 Axes>"
      ]
     },
     "metadata": {
      "needs_background": "light"
     },
     "output_type": "display_data"
    }
   ],
   "source": [
    "# Plot usiing the OO method\n",
    "width = 4\n",
    "height = 4\n",
    "fig, axes = plt.subplots(nrows=1,ncols=2,figsize=(width,height))\n",
    "\n",
    "axes[0].plot(time_grid,exact_projectile[0],'b')\n",
    "axes[0].set_xlabel('time (s)', fontsize=15)\n",
    "axes[0].set_ylabel('$v_{y}(t)$', fontsize=15)\n",
    "axes[0].set_title('Exact solution of \\n y-component \\n of velocity', fontsize=9)\n",
    "\n",
    "axes[1].plot(time_grid,exact_projectile[1],'r')\n",
    "axes[1].set_xlabel('time (s)', fontsize=15)\n",
    "axes[1].set_ylabel('$v_{z}(t)$', fontsize=15)\n",
    "axes[1].set_title('Exact solution of \\n z-component \\n of velocity', fontsize=9)\n",
    "plt.tight_layout()"
   ]
  },
  {
   "cell_type": "markdown",
   "metadata": {},
   "source": [
    "# Solution via Runge-Kutta"
   ]
  },
  {
   "cell_type": "code",
   "execution_count": 75,
   "metadata": {},
   "outputs": [],
   "source": [
    "# Common Function\n",
    "def fnuv(u,v,n):\n",
    "    t1 = u**2 + v**2\n",
    "    t2 = t1**((n-1)/2)\n",
    "    return(t2)"
   ]
  },
  {
   "cell_type": "code",
   "execution_count": 76,
   "metadata": {},
   "outputs": [],
   "source": [
    "# Define the two fucntions on the right hand side\n",
    "def FRHS(u,v,mass,beta,n):\n",
    "    t1 = (-beta/mass)*fnuv(u,v,n)*u\n",
    "    return(t1)"
   ]
  },
  {
   "cell_type": "code",
   "execution_count": 77,
   "metadata": {},
   "outputs": [],
   "source": [
    "def GRHS(u,v,mass,beta,n):\n",
    "    g = 9.8 # ms^-2\n",
    "    t1 = -g - (beta/mass)*fnuv(u,v,n)*v\n",
    "    return(t1)"
   ]
  },
  {
   "cell_type": "code",
   "execution_count": 78,
   "metadata": {},
   "outputs": [],
   "source": [
    "# RUnge-Kutta implementation\n",
    "def dsolve_projectile(mass,beta,n,v0,alpha,tmin,tmax,NGrid):\n",
    "    # mass: mass of object\n",
    "    # beta: drag coefficient\n",
    "    # n: order of drag force\n",
    "    # v0: initial velocity\n",
    "    # alpha: initial angle (in radians)\n",
    "    #tmin,tmax: minimum and maximum values of time grid\n",
    "    # NGrid: number of grid points on time grid\n",
    "    \n",
    "    # Define the time grid\n",
    "    time_grid = np.linspace(tmin,tmax,NGrid)\n",
    "    h = time_grid[1] - time_grid[0]\n",
    "    \n",
    "    # Define the arrays which hold the functions u and v\n",
    "    u = np.zeros(NGrid)\n",
    "    v = np.zeros(NGrid)\n",
    "    \n",
    "    # Define the initial values to start R-K algorithm\n",
    "    u[0] = v0*np.cos(alpha)\n",
    "    v[0] = v0*np.sin(alpha)\n",
    "    \n",
    "    # for loop for R-K algorithm\n",
    "    \n",
    "    for i in range(0,NGrid-1):\n",
    "        k1 = h*FRHS(u[i],v[i],mass,beta,n)\n",
    "        l1 = h*GRHS(u[i],v[i],mass,beta,n)\n",
    "        \n",
    "        k2 = h*FRHS(u[i] + 0.5*k1,v[i] + 0.5*l1,mass,beta,n)\n",
    "        l2 = h*GRHS(u[i] + 0.5*k1,v[i] + 0.5*l1,mass,beta,n)\n",
    "        \n",
    "        k3 = h*FRHS(u[i] + 0.5*k2,v[i] + 0.5*l2,mass,beta,n)\n",
    "        l3 = h*GRHS(u[i] + 0.5*k2,v[i] + 0.5*l2,mass,beta,n)\n",
    "        \n",
    "        \n",
    "        k4 = h*FRHS(u[i] + k3,v[i] + l3,mass,beta,n)\n",
    "        l4 = h*GRHS(u[i] + k3,v[i] + l3,mass,beta,n)\n",
    "        \n",
    "        u[i+1] = u[i] + k1/6.0 + k2/3.0 + k3/3.0 + k4/6.0\n",
    "        v[i+1] = v[i] + l1/6.0 + l2/3.0 + l3/3.0 + l4/6.0\n",
    "    return u,v"
   ]
  },
  {
   "cell_type": "code",
   "execution_count": 86,
   "metadata": {},
   "outputs": [],
   "source": [
    "# Define all the parameters\n",
    "# Calculate the exact solution as an array\n",
    "mass = 1.0 # kg\n",
    "beta = 0.7\n",
    "n = 1  # order of the drag force\n",
    "v0 = 1.0 # m/s\n",
    "alpha = np.pi/4\n",
    "tmin = 0.0 # s\n",
    "tmax = 10.0 # s\n",
    "NGrid = 15\n",
    "time_grid = np.linspace(tmin,tmax,NGrid)\n",
    "exact_projectile = exact_solution(mass,beta,v0,alpha,tmin,tmax,NGrid)\n",
    "RK4_solution = dsolve_projectile(mass,beta,n,v0,alpha,tmin,tmax,NGrid)"
   ]
  },
  {
   "cell_type": "code",
   "execution_count": 80,
   "metadata": {},
   "outputs": [
    {
     "data": {
      "text/plain": [
       "(array([7.07106781e-01, 4.29051771e-01, 2.60336101e-01, 1.57964353e-01,\n",
       "        9.58481619e-02, 5.81578691e-02, 3.52884987e-02, 2.14120318e-02,\n",
       "        1.29921964e-02, 7.88328581e-03, 4.78334790e-03, 2.90239599e-03,\n",
       "        1.76108923e-03, 1.06857758e-03, 6.48381710e-04]),\n",
       " array([  0.70710678,  -5.07615656,  -8.58527208, -10.71450103,\n",
       "        -12.00645505, -12.79037507, -13.26603487, -13.55465137,\n",
       "        -13.72977544, -13.83603562, -13.9005112 , -13.9396331 ,\n",
       "        -13.96337112, -13.97777467, -13.98651432]))"
      ]
     },
     "execution_count": 80,
     "metadata": {},
     "output_type": "execute_result"
    }
   ],
   "source": [
    "RK4_solution\n"
   ]
  },
  {
   "cell_type": "code",
   "execution_count": 81,
   "metadata": {},
   "outputs": [
    {
     "data": {
      "text/plain": [
       "array([7.07106781e-01, 4.29051771e-01, 2.60336101e-01, 1.57964353e-01,\n",
       "       9.58481619e-02, 5.81578691e-02, 3.52884987e-02, 2.14120318e-02,\n",
       "       1.29921964e-02, 7.88328581e-03, 4.78334790e-03, 2.90239599e-03,\n",
       "       1.76108923e-03, 1.06857758e-03, 6.48381710e-04])"
      ]
     },
     "execution_count": 81,
     "metadata": {},
     "output_type": "execute_result"
    }
   ],
   "source": [
    "RK4_solution[0]"
   ]
  },
  {
   "cell_type": "code",
   "execution_count": 82,
   "metadata": {},
   "outputs": [
    {
     "data": {
      "text/plain": [
       "array([  0.70710678,  -5.07615656,  -8.58527208, -10.71450103,\n",
       "       -12.00645505, -12.79037507, -13.26603487, -13.55465137,\n",
       "       -13.72977544, -13.83603562, -13.9005112 , -13.9396331 ,\n",
       "       -13.96337112, -13.97777467, -13.98651432])"
      ]
     },
     "execution_count": 82,
     "metadata": {},
     "output_type": "execute_result"
    }
   ],
   "source": [
    "RK4_solution[1]"
   ]
  },
  {
   "cell_type": "code",
   "execution_count": 92,
   "metadata": {},
   "outputs": [],
   "source": [
    "# Compare the exact solution with the Runge-Kutta solution\n",
    "mass = 1.0 # kg\n",
    "beta = 0.7\n",
    "n = 1  # order of the drag force\n",
    "v0 = 1.0 # m/s\n",
    "alpha = np.pi/4\n",
    "tmin = 0.0 # s\n",
    "tmax = 10.0 # s\n",
    "NGrid = 5\n",
    "time_grid = np.linspace(tmin,tmax,NGrid)\n",
    "exact_projectile = exact_solution(mass,beta,v0,alpha,tmin,tmax,NGrid)\n",
    "RK4_solution = dsolve_projectile(mass,beta,n,v0,alpha,tmin,tmax,NGrid)"
   ]
  },
  {
   "cell_type": "code",
   "execution_count": 93,
   "metadata": {},
   "outputs": [
    {
     "data": {
      "image/png": "[encoded data removed]",
      "text/plain": [
       "<Figure size 720x504 with 2 Axes>"
      ]
     },
     "metadata": {
      "needs_background": "light"
     },
     "output_type": "display_data"
    }
   ],
   "source": [
    "# Create subplot using the OO method\n",
    "# To see the difference, decrease the grid size\n",
    "\n",
    "width = 10\n",
    "height = 7\n",
    "fig, axes = plt.subplots(nrows=1,ncols=2,figsize=(width,height))\n",
    "\n",
    "axes[0].plot(time_grid,exact_projectile[0],'b',time_grid,RK4_solution[0],'r')\n",
    "axes[0].set_xlabel('time (s)',fontsize=15)\n",
    "axes[0].set_ylabel('$v_{y}t$',fontsize=15)\n",
    "axes[0].set_title('Exact and RK4 solutions \\n of y-component \\n of velocity',fontsize=15)\n",
    "\n",
    "axes[1].plot(time_grid,exact_projectile[1],'b',time_grid,RK4_solution[1],'r')\n",
    "axes[1].set_xlabel('time (s)',fontsize=15)\n",
    "axes[1].set_ylabel('$v_{z}t$',fontsize=15)\n",
    "axes[1].set_title('Exact and RK4 solutions \\n of z-component \\n of velocity',fontsize=15)\n",
    "\n",
    "plt.tight_layout()"
   ]
  },
  {
   "cell_type": "markdown",
   "metadata": {},
   "source": [
    "# Using built-in ODE solver"
   ]
  },
  {
   "cell_type": "code",
   "execution_count": 94,
   "metadata": {},
   "outputs": [],
   "source": [
    "# Define the RHS of the system of ODEs\n",
    "def projectile_odeint(state,t,mass,beta,n,g):\n",
    "    # mass\n",
    "    # beta: drag coefficient\n",
    "    # n: order of drag coefficient\n",
    "    # g: gravitational acceleration\n",
    "    # State: the initial state as a one-dimensional array (be careful!)\n",
    "    # time: t must be an array (be careful!)\n",
    "    \n",
    "    # Define the initial values for the two functions\n",
    "    u,v = state\n",
    "    \n",
    "    # Define the RHS\n",
    "    du_dt = (-beta/mass)*fnuv(u,v,n)*u\n",
    "    dv_dt = -g -(beta/mass)*fnuv(u,v,n)*v\n",
    "    \n",
    "    return [du_dt,dv_dt]"
   ]
  },
  {
   "cell_type": "code",
   "execution_count": 96,
   "metadata": {},
   "outputs": [],
   "source": [
    "mass = 1.0\n",
    "beta = 0.7\n",
    "v0 = 1.0\n",
    "alpha = np.pi/4\n",
    "tmin = 0.0\n",
    "tmax = 10.0\n",
    "NGrid = 10\n",
    "n = 1  # order of drag coefficient\n",
    "g = 9.8\n",
    "init_state = [v0*np.cos(alpha),v0*np.sin(alpha)] # initial state\n",
    "time_grid = np.linspace(tmin,tmax,NGrid)\n",
    "state = odeint(projectile_odeint,init_state,time_grid,args=(mass,beta,n,g))"
   ]
  },
  {
   "cell_type": "code",
   "execution_count": 98,
   "metadata": {},
   "outputs": [
    {
     "data": {
      "text/plain": [
       "10"
      ]
     },
     "execution_count": 98,
     "metadata": {},
     "output_type": "execute_result"
    }
   ],
   "source": [
    "len(state)"
   ]
  },
  {
   "cell_type": "code",
   "execution_count": 99,
   "metadata": {},
   "outputs": [
    {
     "data": {
      "text/plain": [
       "array([[ 7.07106781e-01,  7.07106781e-01],\n",
       "       [ 3.24863114e-01, -7.24317538e+00],\n",
       "       [ 1.49250500e-01, -1.08957404e+01],\n",
       "       [ 6.85695360e-02, -1.25738229e+01],\n",
       "       [ 3.15026176e-02, -1.33447774e+01],\n",
       "       [ 1.44731172e-02, -1.36989738e+01],\n",
       "       [ 6.64932440e-03, -1.38617008e+01],\n",
       "       [ 3.05487162e-03, -1.39364618e+01],\n",
       "       [ 1.40348730e-03, -1.39708089e+01],\n",
       "       [ 6.44797361e-04, -1.39865889e+01]])"
      ]
     },
     "execution_count": 99,
     "metadata": {},
     "output_type": "execute_result"
    }
   ],
   "source": [
    "state"
   ]
  },
  {
   "cell_type": "code",
   "execution_count": 100,
   "metadata": {},
   "outputs": [
    {
     "data": {
      "text/plain": [
       "array([7.07106781e-01, 3.24863114e-01, 1.49250500e-01, 6.85695360e-02,\n",
       "       3.15026176e-02, 1.44731172e-02, 6.64932440e-03, 3.05487162e-03,\n",
       "       1.40348730e-03, 6.44797361e-04])"
      ]
     },
     "execution_count": 100,
     "metadata": {},
     "output_type": "execute_result"
    }
   ],
   "source": [
    "# Extract the funtion u(t)\n",
    "# Note syntax\n",
    "state[:,0]"
   ]
  },
  {
   "cell_type": "code",
   "execution_count": 102,
   "metadata": {},
   "outputs": [
    {
     "data": {
      "text/plain": [
       "array([  0.70710678,  -7.24317538, -10.89574036, -12.57382292,\n",
       "       -13.34477738, -13.69897378, -13.86170077, -13.93646176,\n",
       "       -13.97080888, -13.98658887])"
      ]
     },
     "execution_count": 102,
     "metadata": {},
     "output_type": "execute_result"
    }
   ],
   "source": [
    "# Extract the function v(t)\n",
    "# Note the syntax\n",
    "state[:,1]"
   ]
  },
  {
   "cell_type": "markdown",
   "metadata": {},
   "source": [
    "# Plotting the exact with ODE "
   ]
  },
  {
   "cell_type": "code",
   "execution_count": 108,
   "metadata": {},
   "outputs": [
    {
     "data": {
      "image/png": "[encoded data removed]",
      "text/plain": [
       "<Figure size 576x576 with 2 Axes>"
      ]
     },
     "metadata": {
      "needs_background": "light"
     },
     "output_type": "display_data"
    }
   ],
   "source": [
    "# Plot using the exact, RK4 and odeint solutions using OO\n",
    "# To see differences, decrease the grid size\n",
    "\n",
    "# Define the parameters of this problem\n",
    "\n",
    "mass = 1.0\n",
    "beta = 0.7\n",
    "v0 = 1.0\n",
    "alpha = np.pi/4\n",
    "tmin = 0.0\n",
    "tmax = 10.0\n",
    "NGrid = 5\n",
    "n = 1  # order of drag coefficient\n",
    "g = 9.8\n",
    "width = 10\n",
    "height = 7\n",
    "time_grid = np.linspace(tmin,tmax,NGrid)\n",
    "\n",
    "# Exact solution\n",
    "exact_projectile = exact_solution(mass,beta,v0,alpha,tmin,tmax,NGrid)\n",
    "\n",
    "# RK4 Solution\n",
    "RK4_solution = dsolve_projectile(mass,beta,n,v0,alpha,tmin,tmax,NGrid)\n",
    "\n",
    "#Odeint solution\n",
    "init_state = [v0*np.cos(alpha),v0*np.sin(alpha)] # initial state\n",
    "time_grid = np.linspace(tmin,tmax,NGrid)\n",
    "state = odeint(projectile_odeint,init_state,time_grid,args=(mass,beta,n,g))\n",
    "\n",
    "width = 8\n",
    "height = 8\n",
    "fig,axes = plt.subplots(nrows=1,ncols=2,figsize=(width,height))\n",
    "\n",
    "\n",
    "axes[0].plot(time_grid,exact_projectile[0],'b',\n",
    "             time_grid,RK4_solution[0],'r',\n",
    "             time_grid,state[:,0],'g')\n",
    "axes[0].set_xlabel('time (s)',fontsize=15)\n",
    "axes[0].set_ylabel('$v_{y}t$',fontsize=15)\n",
    "axes[0].set_title('Exact/RK4/odeint solutions \\n of y-component \\n of velocity',fontsize=15)\n",
    "\n",
    "axes[1].plot(time_grid,exact_projectile[1],'b',\n",
    "             time_grid,RK4_solution[1],'r',\n",
    "             time_grid,state[:,1],'g')\n",
    "axes[1].set_xlabel('time (s)',fontsize=15)\n",
    "axes[1].set_ylabel('$v_{z}t$',fontsize=15)\n",
    "axes[1].set_title('Exact/RK4/odeint solutions \\n of z-component \\n of velocity',fontsize=15)\n",
    "\n",
    "plt.tight_layout()"
   ]
  },
  {
   "cell_type": "code",
   "execution_count": null,
   "metadata": {},
   "outputs": [],
   "source": []
  }
 ],
 "metadata": {
  "kernelspec": {
   "display_name": "Python 3",
   "language": "python",
   "name": "python3"
  },
  "language_info": {
   "codemirror_mode": {
    "name": "ipython",
    "version": 3
   },
   "file_extension": ".py",
   "mimetype": "text/x-python",
   "name": "python",
   "nbconvert_exporter": "python",
   "pygments_lexer": "ipython3",
   "version": "3.7.3"
  }
 },
 "nbformat": 4,
 "nbformat_minor": 2
}
